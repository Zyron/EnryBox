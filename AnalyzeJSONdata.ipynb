{
 "cells": [
  {
   "cell_type": "code",
   "execution_count": 2,
   "metadata": {},
   "outputs": [
    {
     "name": "stderr",
     "output_type": "stream",
     "text": [
      "<ipython-input-2-767967c45c57>:1: SettingWithCopyWarning: \n",
      "A value is trying to be set on a copy of a slice from a DataFrame.\n",
      "Try using .loc[row_indexer,col_indexer] = value instead\n",
      "\n",
      "See the caveats in the documentation: https://pandas.pydata.org/pandas-docs/stable/user_guide/indexing.html#returning-a-view-versus-a-copy\n",
      "  s2['g_C'] = s2['values'].apply(lambda x: ','.join(map(str, x)))\n",
      "/opt/conda/lib/python3.8/site-packages/pandas/core/frame.py:3069: SettingWithCopyWarning: \n",
      "A value is trying to be set on a copy of a slice from a DataFrame.\n",
      "Try using .loc[row_indexer,col_indexer] = value instead\n",
      "\n",
      "See the caveats in the documentation: https://pandas.pydata.org/pandas-docs/stable/user_guide/indexing.html#returning-a-view-versus-a-copy\n",
      "  self[k1] = value[k2]\n",
      "<ipython-input-2-8ee4d752cfa0>:1: SettingWithCopyWarning: \n",
      "A value is trying to be set on a copy of a slice from a DataFrame.\n",
      "Try using .loc[row_indexer,col_indexer] = value instead\n",
      "\n",
      "See the caveats in the documentation: https://pandas.pydata.org/pandas-docs/stable/user_guide/indexing.html#returning-a-view-versus-a-copy\n",
      "  s2['g'] = s2['g'].astype(float)\n"
     ]
    },
    {
     "data": {
      "image/png": "[encoded data removed]",
      "text/plain": [
       "<Figure size 432x288 with 1 Axes>"
      ]
     },
     "metadata": {
      "needs_background": "light"
     },
     "output_type": "display_data"
    },
    {
     "name": "stderr",
     "output_type": "stream",
     "text": [
      "<ipython-input-2-5b6b54f0c412>:1: SettingWithCopyWarning: \n",
      "A value is trying to be set on a copy of a slice from a DataFrame.\n",
      "Try using .loc[row_indexer,col_indexer] = value instead\n",
      "\n",
      "See the caveats in the documentation: https://pandas.pydata.org/pandas-docs/stable/user_guide/indexing.html#returning-a-view-versus-a-copy\n",
      "  s2[\"g2\"] = s2[\"g\"].copy\n",
      "<ipython-input-2-9fbbb6f0a7dc>:1: SettingWithCopyWarning: \n",
      "A value is trying to be set on a copy of a slice from a DataFrame.\n",
      "Try using .loc[row_indexer,col_indexer] = value instead\n",
      "\n",
      "See the caveats in the documentation: https://pandas.pydata.org/pandas-docs/stable/user_guide/indexing.html#returning-a-view-versus-a-copy\n",
      "  s2[\"g2\"] = s2[s2[\"g\"] > 0.1]\n",
      "<ipython-input-2-bad483c66c04>:1: SettingWithCopyWarning: \n",
      "A value is trying to be set on a copy of a slice from a DataFrame.\n",
      "Try using .loc[row_indexer,col_indexer] = value instead\n",
      "\n",
      "See the caveats in the documentation: https://pandas.pydata.org/pandas-docs/stable/user_guide/indexing.html#returning-a-view-versus-a-copy\n",
      "  s3[\"datetime\"] = pd.to_datetime(s3[\"time\"], unit=\"ms\").dt.tz_localize('UTC').dt.tz_convert('Europe/Oslo')\n",
      "<ipython-input-2-68b90f55cbef>:1: SettingWithCopyWarning: \n",
      "A value is trying to be set on a copy of a slice from a DataFrame.\n",
      "Try using .loc[row_indexer,col_indexer] = value instead\n",
      "\n",
      "See the caveats in the documentation: https://pandas.pydata.org/pandas-docs/stable/user_guide/indexing.html#returning-a-view-versus-a-copy\n",
      "  s3['year'] = s3['datetime'].dt.year\n",
      "<ipython-input-2-0b5323bd37de>:1: SettingWithCopyWarning: \n",
      "A value is trying to be set on a copy of a slice from a DataFrame.\n",
      "Try using .loc[row_indexer,col_indexer] = value instead\n",
      "\n",
      "See the caveats in the documentation: https://pandas.pydata.org/pandas-docs/stable/user_guide/indexing.html#returning-a-view-versus-a-copy\n",
      "  s3['month'] = s3['datetime'].dt.month\n",
      "<ipython-input-2-97d57d7bf4ce>:1: FutureWarning: Series.dt.weekofyear and Series.dt.week have been deprecated.  Please use Series.dt.isocalendar().week instead.\n",
      "  s3['week'] = s3['datetime'].dt.weekofyear\n"
     ]
    },
    {
     "name": "stdout",
     "output_type": "stream",
     "text": [
      "l 136\n",
      "\n",
      "0.111\n",
      "2020-11-13 18:53:28.034000+01:00\n",
      "4\n",
      "l 137\n",
      "\n",
      "0.258\n",
      "2020-11-13 18:54:12.867000+01:00\n",
      "4\n",
      "k 0\n",
      "l 137\n"
     ]
    }
   ],
   "source": [
    "%run PrepareData.ipynb"
   ]
  },
  {
   "cell_type": "code",
   "execution_count": 2,
   "metadata": {},
   "outputs": [
    {
     "data": {
      "text/html": [
       "<div>\n",
       "<style scoped>\n",
       "    .dataframe tbody tr th:only-of-type {\n",
       "        vertical-align: middle;\n",
       "    }\n",
       "\n",
       "    .dataframe tbody tr th {\n",
       "        vertical-align: top;\n",
       "    }\n",
       "\n",
       "    .dataframe thead th {\n",
       "        text-align: right;\n",
       "    }\n",
       "</style>\n",
       "<table border=\"1\" class=\"dataframe\">\n",
       "  <thead>\n",
       "    <tr style=\"text-align: right;\">\n",
       "      <th></th>\n",
       "      <th>g</th>\n",
       "      <th>year</th>\n",
       "      <th>month</th>\n",
       "      <th>day</th>\n",
       "      <th>week</th>\n",
       "      <th>weekday</th>\n",
       "      <th>Weekday</th>\n",
       "      <th>hour</th>\n",
       "      <th>minutes</th>\n",
       "      <th>ones</th>\n",
       "    </tr>\n",
       "    <tr>\n",
       "      <th>datetime</th>\n",
       "      <th></th>\n",
       "      <th></th>\n",
       "      <th></th>\n",
       "      <th></th>\n",
       "      <th></th>\n",
       "      <th></th>\n",
       "      <th></th>\n",
       "      <th></th>\n",
       "      <th></th>\n",
       "      <th></th>\n",
       "    </tr>\n",
       "  </thead>\n",
       "  <tbody>\n",
       "    <tr>\n",
       "      <th>2020-11-10 22:14:29.986000+01:00</th>\n",
       "      <td>2.281</td>\n",
       "      <td>2020</td>\n",
       "      <td>11</td>\n",
       "      <td>10</td>\n",
       "      <td>46</td>\n",
       "      <td>1</td>\n",
       "      <td>Tuesday</td>\n",
       "      <td>22</td>\n",
       "      <td>14</td>\n",
       "      <td>1</td>\n",
       "    </tr>\n",
       "    <tr>\n",
       "      <th>2020-11-10 22:14:30.987000+01:00</th>\n",
       "      <td>1.786</td>\n",
       "      <td>2020</td>\n",
       "      <td>11</td>\n",
       "      <td>10</td>\n",
       "      <td>46</td>\n",
       "      <td>1</td>\n",
       "      <td>Tuesday</td>\n",
       "      <td>22</td>\n",
       "      <td>14</td>\n",
       "      <td>1</td>\n",
       "    </tr>\n",
       "    <tr>\n",
       "      <th>2020-11-10 22:14:31.987000+01:00</th>\n",
       "      <td>1.386</td>\n",
       "      <td>2020</td>\n",
       "      <td>11</td>\n",
       "      <td>10</td>\n",
       "      <td>46</td>\n",
       "      <td>1</td>\n",
       "      <td>Tuesday</td>\n",
       "      <td>22</td>\n",
       "      <td>14</td>\n",
       "      <td>1</td>\n",
       "    </tr>\n",
       "    <tr>\n",
       "      <th>2020-11-10 22:14:32.979000+01:00</th>\n",
       "      <td>1.548</td>\n",
       "      <td>2020</td>\n",
       "      <td>11</td>\n",
       "      <td>10</td>\n",
       "      <td>46</td>\n",
       "      <td>1</td>\n",
       "      <td>Tuesday</td>\n",
       "      <td>22</td>\n",
       "      <td>14</td>\n",
       "      <td>1</td>\n",
       "    </tr>\n",
       "    <tr>\n",
       "      <th>2020-11-10 22:14:33.975000+01:00</th>\n",
       "      <td>0.866</td>\n",
       "      <td>2020</td>\n",
       "      <td>11</td>\n",
       "      <td>10</td>\n",
       "      <td>46</td>\n",
       "      <td>1</td>\n",
       "      <td>Tuesday</td>\n",
       "      <td>22</td>\n",
       "      <td>14</td>\n",
       "      <td>1</td>\n",
       "    </tr>\n",
       "    <tr>\n",
       "      <th>...</th>\n",
       "      <td>...</td>\n",
       "      <td>...</td>\n",
       "      <td>...</td>\n",
       "      <td>...</td>\n",
       "      <td>...</td>\n",
       "      <td>...</td>\n",
       "      <td>...</td>\n",
       "      <td>...</td>\n",
       "      <td>...</td>\n",
       "      <td>...</td>\n",
       "    </tr>\n",
       "    <tr>\n",
       "      <th>2020-11-23 23:51:45.559000+01:00</th>\n",
       "      <td>0.030</td>\n",
       "      <td>2020</td>\n",
       "      <td>11</td>\n",
       "      <td>23</td>\n",
       "      <td>48</td>\n",
       "      <td>0</td>\n",
       "      <td>Monday</td>\n",
       "      <td>23</td>\n",
       "      <td>51</td>\n",
       "      <td>1</td>\n",
       "    </tr>\n",
       "    <tr>\n",
       "      <th>2020-11-23 23:53:45.871000+01:00</th>\n",
       "      <td>0.032</td>\n",
       "      <td>2020</td>\n",
       "      <td>11</td>\n",
       "      <td>23</td>\n",
       "      <td>48</td>\n",
       "      <td>0</td>\n",
       "      <td>Monday</td>\n",
       "      <td>23</td>\n",
       "      <td>53</td>\n",
       "      <td>1</td>\n",
       "    </tr>\n",
       "    <tr>\n",
       "      <th>2020-11-23 23:55:46.192000+01:00</th>\n",
       "      <td>0.038</td>\n",
       "      <td>2020</td>\n",
       "      <td>11</td>\n",
       "      <td>23</td>\n",
       "      <td>48</td>\n",
       "      <td>0</td>\n",
       "      <td>Monday</td>\n",
       "      <td>23</td>\n",
       "      <td>55</td>\n",
       "      <td>1</td>\n",
       "    </tr>\n",
       "    <tr>\n",
       "      <th>2020-11-23 23:57:46.521000+01:00</th>\n",
       "      <td>0.030</td>\n",
       "      <td>2020</td>\n",
       "      <td>11</td>\n",
       "      <td>23</td>\n",
       "      <td>48</td>\n",
       "      <td>0</td>\n",
       "      <td>Monday</td>\n",
       "      <td>23</td>\n",
       "      <td>57</td>\n",
       "      <td>1</td>\n",
       "    </tr>\n",
       "    <tr>\n",
       "      <th>2020-11-23 23:59:46.839000+01:00</th>\n",
       "      <td>0.041</td>\n",
       "      <td>2020</td>\n",
       "      <td>11</td>\n",
       "      <td>23</td>\n",
       "      <td>48</td>\n",
       "      <td>0</td>\n",
       "      <td>Monday</td>\n",
       "      <td>23</td>\n",
       "      <td>59</td>\n",
       "      <td>1</td>\n",
       "    </tr>\n",
       "  </tbody>\n",
       "</table>\n",
       "<p>40525 rows × 10 columns</p>\n",
       "</div>"
      ],
      "text/plain": [
       "                                      g  year  month  day  week  weekday  \\\n",
       "datetime                                                                   \n",
       "2020-11-10 22:14:29.986000+01:00  2.281  2020     11   10    46        1   \n",
       "2020-11-10 22:14:30.987000+01:00  1.786  2020     11   10    46        1   \n",
       "2020-11-10 22:14:31.987000+01:00  1.386  2020     11   10    46        1   \n",
       "2020-11-10 22:14:32.979000+01:00  1.548  2020     11   10    46        1   \n",
       "2020-11-10 22:14:33.975000+01:00  0.866  2020     11   10    46        1   \n",
       "...                                 ...   ...    ...  ...   ...      ...   \n",
       "2020-11-23 23:51:45.559000+01:00  0.030  2020     11   23    48        0   \n",
       "2020-11-23 23:53:45.871000+01:00  0.032  2020     11   23    48        0   \n",
       "2020-11-23 23:55:46.192000+01:00  0.038  2020     11   23    48        0   \n",
       "2020-11-23 23:57:46.521000+01:00  0.030  2020     11   23    48        0   \n",
       "2020-11-23 23:59:46.839000+01:00  0.041  2020     11   23    48        0   \n",
       "\n",
       "                                  Weekday  hour  minutes  ones  \n",
       "datetime                                                        \n",
       "2020-11-10 22:14:29.986000+01:00  Tuesday    22       14     1  \n",
       "2020-11-10 22:14:30.987000+01:00  Tuesday    22       14     1  \n",
       "2020-11-10 22:14:31.987000+01:00  Tuesday    22       14     1  \n",
       "2020-11-10 22:14:32.979000+01:00  Tuesday    22       14     1  \n",
       "2020-11-10 22:14:33.975000+01:00  Tuesday    22       14     1  \n",
       "...                                   ...   ...      ...   ...  \n",
       "2020-11-23 23:51:45.559000+01:00   Monday    23       51     1  \n",
       "2020-11-23 23:53:45.871000+01:00   Monday    23       53     1  \n",
       "2020-11-23 23:55:46.192000+01:00   Monday    23       55     1  \n",
       "2020-11-23 23:57:46.521000+01:00   Monday    23       57     1  \n",
       "2020-11-23 23:59:46.839000+01:00   Monday    23       59     1  \n",
       "\n",
       "[40525 rows x 10 columns]"
      ]
     },
     "execution_count": 2,
     "metadata": {},
     "output_type": "execute_result"
    }
   ],
   "source": [
    "s3"
   ]
  },
  {
   "cell_type": "code",
   "execution_count": 47,
   "metadata": {},
   "outputs": [
    {
     "data": {
      "text/plain": [
       "<AxesSubplot:xlabel='datetime'>"
      ]
     },
     "execution_count": 47,
     "metadata": {},
     "output_type": "execute_result"
    },
    {
     "data": {
      "image/png": "[encoded data removed]",
      "text/plain": [
       "<Figure size 432x288 with 1 Axes>"
      ]
     },
     "metadata": {
      "needs_background": "light"
     },
     "output_type": "display_data"
    }
   ],
   "source": [
    "s3[(s3[\"day\"] == 20) & (s3[\"hour\"] > 8) & (s3[\"hour\"] < 23)].resample(\"2Min\").sum()[\"g\"].plot()"
   ]
  },
  {
   "cell_type": "code",
   "execution_count": 4,
   "metadata": {},
   "outputs": [
    {
     "data": {
      "text/plain": [
       "datetime\n",
       "2020-11-20 09:00:00+01:00    0.038\n",
       "2020-11-20 09:02:00+01:00    0.032\n",
       "2020-11-20 09:04:00+01:00    0.047\n",
       "2020-11-20 09:06:00+01:00    0.036\n",
       "2020-11-20 09:08:00+01:00    0.033\n",
       "                             ...  \n",
       "2020-11-20 22:50:00+01:00    0.052\n",
       "2020-11-20 22:52:00+01:00    0.033\n",
       "2020-11-20 22:54:00+01:00    0.033\n",
       "2020-11-20 22:56:00+01:00    0.033\n",
       "2020-11-20 22:58:00+01:00    0.038\n",
       "Freq: 2T, Name: g, Length: 420, dtype: float64"
      ]
     },
     "execution_count": 4,
     "metadata": {},
     "output_type": "execute_result"
    }
   ],
   "source": [
    "s3[(s3[\"day\"] == 20) & (s3[\"hour\"] > 8) & (s3[\"hour\"] < 23)].resample(\"2Min\").sum()[\"g\"]"
   ]
  },
  {
   "cell_type": "code",
   "execution_count": 3,
   "metadata": {},
   "outputs": [],
   "source": [
    "s4 = s3[(s3[\"day\"] == 20) & (s3[\"hour\"] > 8) & (s3[\"hour\"] < 23)].resample(\"2Min\").sum()[[\"g\",\"weekday\",\"ones\"]]"
   ]
  },
  {
   "cell_type": "code",
   "execution_count": 12,
   "metadata": {},
   "outputs": [],
   "source": [
    "s4 = s3.resample(\"2Min\").sum()[[\"g\",\"weekday\",\"ones\"]]"
   ]
  },
  {
   "cell_type": "code",
   "execution_count": 13,
   "metadata": {},
   "outputs": [
    {
     "data": {
      "text/plain": [
       "<AxesSubplot:xlabel='datetime'>"
      ]
     },
     "execution_count": 13,
     "metadata": {},
     "output_type": "execute_result"
    },
    {
     "data": {
      "image/png": "[encoded data removed]",
      "text/plain": [
       "<Figure size 432x288 with 1 Axes>"
      ]
     },
     "metadata": {
      "needs_background": "light"
     },
     "output_type": "display_data"
    }
   ],
   "source": [
    "s4.g.plot()"
   ]
  },
  {
   "cell_type": "code",
   "execution_count": 15,
   "metadata": {},
   "outputs": [
    {
     "name": "stdout",
     "output_type": "stream",
     "text": [
      "Date: 2018-06-29\n",
      "Time: 08:15:27.243860\n",
      "Date-time: 2018-06-29 08:15:27.243860\n",
      "duration [Timedelta('0 days 00:06:00'), Timedelta('0 days 00:04:00'), Timedelta('0 days 00:14:00'), Timedelta('0 days 00:10:00'), Timedelta('0 days 00:04:00'), Timedelta('0 days 00:16:00'), Timedelta('0 days 01:54:00'), Timedelta('0 days 00:04:00'), Timedelta('0 days 00:04:00'), Timedelta('0 days 00:34:00'), Timedelta('0 days 00:10:00'), Timedelta('0 days 01:48:00'), Timedelta('0 days 00:42:00'), Timedelta('0 days 00:08:00'), Timedelta('0 days 00:20:00'), Timedelta('0 days 00:16:00'), Timedelta('0 days 00:26:00'), Timedelta('0 days 00:46:00'), Timedelta('0 days 01:12:00'), Timedelta('0 days 00:04:00'), Timedelta('0 days 01:06:00'), Timedelta('0 days 00:28:00'), Timedelta('0 days 00:44:00'), Timedelta('0 days 01:10:00'), Timedelta('0 days 00:22:00'), Timedelta('0 days 01:22:00'), Timedelta('0 days 00:32:00'), Timedelta('0 days 01:02:00'), Timedelta('0 days 00:18:00'), Timedelta('0 days 00:14:00'), Timedelta('0 days 00:04:00'), Timedelta('0 days 00:12:00'), Timedelta('0 days 00:06:00'), Timedelta('0 days 00:06:00'), Timedelta('0 days 00:26:00'), Timedelta('0 days 00:18:00'), Timedelta('0 days 00:06:00'), Timedelta('0 days 00:14:00'), Timedelta('0 days 00:42:00'), Timedelta('0 days 00:38:00'), Timedelta('0 days 00:20:00'), Timedelta('0 days 00:20:00'), Timedelta('0 days 00:28:00'), Timedelta('0 days 00:34:00'), Timedelta('0 days 01:20:00'), Timedelta('0 days 00:28:00'), Timedelta('0 days 00:18:00'), Timedelta('0 days 00:22:00'), Timedelta('0 days 00:08:00'), Timedelta('0 days 00:32:00'), Timedelta('0 days 00:44:00'), Timedelta('0 days 00:14:00'), Timedelta('0 days 00:16:00'), Timedelta('0 days 00:28:00'), Timedelta('0 days 00:04:00'), Timedelta('0 days 00:14:00'), Timedelta('0 days 00:42:00'), Timedelta('0 days 00:58:00'), Timedelta('0 days 00:24:00'), Timedelta('0 days 00:40:00'), Timedelta('0 days 00:36:00'), Timedelta('0 days 00:24:00'), Timedelta('0 days 00:38:00'), Timedelta('0 days 00:04:00'), Timedelta('0 days 00:14:00'), Timedelta('0 days 00:22:00'), Timedelta('0 days 00:28:00'), Timedelta('0 days 00:06:00'), Timedelta('0 days 00:26:00'), Timedelta('0 days 00:44:00'), Timedelta('0 days 00:26:00'), Timedelta('0 days 00:18:00'), Timedelta('0 days 00:34:00'), Timedelta('0 days 00:28:00'), Timedelta('0 days 00:26:00'), Timedelta('0 days 00:12:00'), Timedelta('0 days 00:20:00'), Timedelta('0 days 00:22:00'), Timedelta('0 days 00:20:00'), Timedelta('0 days 00:26:00'), Timedelta('0 days 00:22:00'), Timedelta('0 days 00:24:00'), Timedelta('0 days 00:16:00'), Timedelta('0 days 00:32:00'), Timedelta('0 days 00:30:00'), Timedelta('0 days 00:04:00'), Timedelta('0 days 00:24:00'), Timedelta('0 days 00:20:00'), Timedelta('0 days 00:34:00'), Timedelta('0 days 00:14:00'), Timedelta('0 days 00:06:00'), Timedelta('0 days 00:46:00'), Timedelta('0 days 00:04:00'), Timedelta('0 days 00:46:00'), Timedelta('0 days 02:10:00'), Timedelta('0 days 00:38:00'), Timedelta('0 days 00:30:00'), Timedelta('0 days 01:10:00'), Timedelta('0 days 00:20:00'), Timedelta('0 days 00:14:00'), Timedelta('0 days 00:04:00'), Timedelta('0 days 00:40:00'), Timedelta('0 days 00:40:00'), Timedelta('0 days 00:20:00'), Timedelta('0 days 01:02:00'), Timedelta('0 days 00:28:00'), Timedelta('0 days 00:18:00'), Timedelta('0 days 00:12:00'), Timedelta('0 days 01:14:00'), Timedelta('0 days 00:28:00'), Timedelta('0 days 00:22:00'), Timedelta('0 days 00:06:00'), Timedelta('0 days 00:20:00'), Timedelta('0 days 00:26:00'), Timedelta('0 days 00:16:00'), Timedelta('0 days 00:24:00'), Timedelta('0 days 00:50:00'), Timedelta('0 days 00:42:00'), Timedelta('0 days 00:46:00'), Timedelta('0 days 01:12:00'), Timedelta('0 days 00:04:00'), Timedelta('0 days 00:30:00'), Timedelta('0 days 00:24:00'), Timedelta('0 days 00:22:00')]\n",
      "times 124\n",
      "sum 2 days 11:34:00\n",
      "avg 0 days 00:28:49.354838709\n"
     ]
    }
   ],
   "source": [
    "import datetime\n",
    "\n",
    "date_time_str = '2018-06-29 08:15:27.243860'\n",
    "date_time_obj = datetime.datetime.strptime(date_time_str, '%Y-%m-%d %H:%M:%S.%f')\n",
    "\n",
    "print('Date:', date_time_obj.date())\n",
    "print('Time:', date_time_obj.time())\n",
    "print('Date-time:', date_time_obj)\n",
    "\n",
    "i = 0\n",
    "\n",
    "j = 0\n",
    "\n",
    "k = 0\n",
    "\n",
    "l = 0\n",
    "\n",
    "m = 100\n",
    "\n",
    "duration = []\n",
    "\n",
    "start = datetime.datetime.strptime(\"2020-11-20 09:00:00+01:00\", '%Y-%m-%d %H:%M:%S+01:00')\n",
    "        \n",
    "stopp = datetime.datetime.strptime(\"2020-11-20 22:58:00+01:00\", '%Y-%m-%d %H:%M:%S+01:00')\n",
    "\n",
    "#print(s4[\"g\"])\n",
    "\n",
    "for index, item in s4[\"g\"].iteritems(): #iterrows\n",
    "    #print(\"index\", index)\n",
    "    #print(\"item\",item)\n",
    "    if (i < 10):\n",
    "        #print(index)\n",
    "        #print(item)\n",
    "        i += 1\n",
    "    if (item > 0.1):\n",
    "        #print(item)\n",
    "        #print(index)        \n",
    "        if (k == 0):\n",
    "            #start = datetime.datetime.strptime(str(index), '%Y-%m-%d %H:%M:%S+01:00')\n",
    "            start = index\n",
    "        k += 1\n",
    "        if (k > l):\n",
    "            l = k\n",
    "            j += 1\n",
    "            if (l > 135):\n",
    "                print()\n",
    "                print(\"l\", l)\n",
    "                print(\"j\", j)\n",
    "                print(item)\n",
    "                print(index)\n",
    "                m = 0\n",
    "                stopp = index\n",
    "                if (stopp):\n",
    "                    print(\"Duration:\", stopp - start)\n",
    "\n",
    "    else:\n",
    "        if (k != 0 and j > 0):\n",
    "            l = 0\n",
    "            j = 0\n",
    "            stopp = index\n",
    "            durationvalue = stopp - start\n",
    "            if (durationvalue > datetime.timedelta(minutes=2)):\n",
    "                #print (durationvalue)\n",
    "                duration.append(durationvalue)\n",
    "        #if (k != 0):\n",
    "            #stopp = datetime.datetime.strptime(str(index), '%Y-%m-%d %H:%M:%S+01:00')\n",
    "            #stopp = index\n",
    "            #if (stopp):\n",
    "                #print(\"Duration:\", stopp - start)\n",
    "        k = 0\n",
    "    if (m < 0):\n",
    "        print(item)\n",
    "        print(index)\n",
    "        m += 1\n",
    "    else:\n",
    "        m = 100\n",
    "\n",
    "#if (stopp):\n",
    "#    print(\"Duration:\", stopp - start)\n",
    "\n",
    "#print(\"k\", k)\n",
    "#print(\"l\", l)\n",
    "\n",
    "print(\"duration\", duration)\n",
    "print(\"times\", len(duration))\n",
    "\n",
    "# giving datetime.timedelta(0) as the start value makes sum work on tds \n",
    "average_timedelta = sum(duration, datetime.timedelta(0)) / len(duration)\n",
    "\n",
    "print(\"sum\", sum(duration, datetime.timedelta(0)))\n",
    "print(\"avg\", average_timedelta)\n"
   ]
  },
  {
   "cell_type": "code",
   "execution_count": null,
   "metadata": {},
   "outputs": [],
   "source": []
  }
 ],
 "metadata": {
  "kernelspec": {
   "display_name": "Python 3",
   "language": "python",
   "name": "python3"
  },
  "language_info": {
   "codemirror_mode": {
    "name": "ipython",
    "version": 3
   },
   "file_extension": ".py",
   "mimetype": "text/x-python",
   "name": "python",
   "nbconvert_exporter": "python",
   "pygments_lexer": "ipython3",
   "version": "3.8.6"
  }
 },
 "nbformat": 4,
 "nbformat_minor": 4
}
